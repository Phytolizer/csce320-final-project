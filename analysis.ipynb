{
 "cells": [
  {
   "cell_type": "code",
   "execution_count": 1,
   "metadata": {},
   "outputs": [
    {
     "output_type": "execute_result",
     "data": {
      "text/plain": [
       "        appid  playtime_forever\n",
       "3    218620.0         10.800000\n",
       "10      730.0        688.800000\n",
       "13   470220.0         16.400000\n",
       "15   360430.0         33.183333\n",
       "16   289070.0         28.483333\n",
       "20   252950.0       2871.683333\n",
       "22   578080.0        199.066667\n",
       "25   695290.0        136.433333\n",
       "41  1089350.0         64.366667"
      ],
      "text/html": "<div>\n<style scoped>\n    .dataframe tbody tr th:only-of-type {\n        vertical-align: middle;\n    }\n\n    .dataframe tbody tr th {\n        vertical-align: top;\n    }\n\n    .dataframe thead th {\n        text-align: right;\n    }\n</style>\n<table border=\"1\" class=\"dataframe\">\n  <thead>\n    <tr style=\"text-align: right;\">\n      <th></th>\n      <th>appid</th>\n      <th>playtime_forever</th>\n    </tr>\n  </thead>\n  <tbody>\n    <tr>\n      <th>3</th>\n      <td>218620.0</td>\n      <td>10.800000</td>\n    </tr>\n    <tr>\n      <th>10</th>\n      <td>730.0</td>\n      <td>688.800000</td>\n    </tr>\n    <tr>\n      <th>13</th>\n      <td>470220.0</td>\n      <td>16.400000</td>\n    </tr>\n    <tr>\n      <th>15</th>\n      <td>360430.0</td>\n      <td>33.183333</td>\n    </tr>\n    <tr>\n      <th>16</th>\n      <td>289070.0</td>\n      <td>28.483333</td>\n    </tr>\n    <tr>\n      <th>20</th>\n      <td>252950.0</td>\n      <td>2871.683333</td>\n    </tr>\n    <tr>\n      <th>22</th>\n      <td>578080.0</td>\n      <td>199.066667</td>\n    </tr>\n    <tr>\n      <th>25</th>\n      <td>695290.0</td>\n      <td>136.433333</td>\n    </tr>\n    <tr>\n      <th>41</th>\n      <td>1089350.0</td>\n      <td>64.366667</td>\n    </tr>\n  </tbody>\n</table>\n</div>"
     },
     "metadata": {},
     "execution_count": 1
    }
   ],
   "source": [
    "import pandas as pd\n",
    "import json\n",
    "\n",
    "PLAYTIME_THRESHOLD = 10\n",
    "\n",
    "def convert_game(game: object) -> pd.Series:\n",
    "    game = pd.json_normalize(game)\n",
    "    game[\"playtime_forever\"] = game[\"playtime_forever\"].apply(lambda p: p / 60)\n",
    "    game = game.where(lambda p: p[\"playtime_forever\"] > PLAYTIME_THRESHOLD).dropna()\n",
    "    return game\n",
    "\n",
    "games = pd.read_json(\"games.json\")\n",
    "games[\"games\"] = games[\"games\"].apply(convert_game)\n",
    "games[\"games\"][0]"
   ]
  },
  {
   "cell_type": "code",
   "execution_count": 2,
   "metadata": {
    "tags": []
   },
   "outputs": [
    {
     "output_type": "execute_result",
     "data": {
      "text/plain": [
       "                                               game_info  reviews  \\\n",
       "0      {'name': 'Warframe', 'steam_appid': 230410, 'g...     0.52   \n",
       "1      {'name': 'Rust', 'steam_appid': 252490, 'genre...     0.91   \n",
       "2      {'name': 'Grand Theft Auto: San Andreas', 'ste...     0.52   \n",
       "3      {'name': 'Grand Theft Auto: San Andreas', 'ste...     0.77   \n",
       "4      {'name': 'Game Dev Tycoon', 'steam_appid': 239...     0.70   \n",
       "...                                                  ...      ...   \n",
       "15821  {'name': 'The Wind Road 紫塞秋风', 'steam_appid': ...     0.55   \n",
       "15822  {'name': 'Stifled - Echolocation Horror Myster...     0.59   \n",
       "15823  {'name': 'Shoot 1UP', 'steam_appid': 373610, '...     0.62   \n",
       "15824  {'name': 'State of War : Warmonger / 蓝色警戒 (Cla...     0.54   \n",
       "15825  {'name': 'Monsters and Monocles', 'steam_appid...     0.77   \n",
       "\n",
       "                                          review_summary      appid  \\\n",
       "0      {'review_score': 8.0, 'total_positive': 1009, ...   230410.0   \n",
       "1      {'review_score': 8.0, 'total_positive': 169918...   252490.0   \n",
       "2      {'review_score': 7.0, 'total_positive': 39, 't...    12250.0   \n",
       "3      {'review_score': 8.0, 'total_positive': 12549,...    12120.0   \n",
       "4      {'review_score': 8.0, 'total_positive': 16966,...   239820.0   \n",
       "...                                                  ...        ...   \n",
       "15821  {'review_score': 8.0, 'total_positive': 52, 't...  1264670.0   \n",
       "15822  {'review_score': 6.0, 'total_positive': 14, 't...   514830.0   \n",
       "15823  {'review_score': 7.0, 'total_positive': 41, 't...   373610.0   \n",
       "15824  {'review_score': 8.0, 'total_positive': 51, 't...   748040.0   \n",
       "15825  {'review_score': 5.0, 'total_positive': 29, 't...   328510.0   \n",
       "\n",
       "                                                 name  \\\n",
       "0                                            Warframe   \n",
       "1                                                Rust   \n",
       "2                       Grand Theft Auto: San Andreas   \n",
       "3                       Grand Theft Auto: San Andreas   \n",
       "4                                     Game Dev Tycoon   \n",
       "...                                               ...   \n",
       "15821                              The Wind Road 紫塞秋风   \n",
       "15822           Stifled - Echolocation Horror Mystery   \n",
       "15823                                       Shoot 1UP   \n",
       "15824  State of War : Warmonger / 蓝色警戒 (Classic 2000)   \n",
       "15825                           Monsters and Monocles   \n",
       "\n",
       "                                                  genres  \n",
       "0                                 [Action, Free to Play]  \n",
       "1      [Action, Adventure, Indie, Massively Multiplay...  \n",
       "2                                                     []  \n",
       "3                                               [Action]  \n",
       "4                  [Casual, Indie, Simulation, Strategy]  \n",
       "...                                                  ...  \n",
       "15821                    [Action, Adventure, Indie, RPG]  \n",
       "15822             [Action, Adventure, Indie, Simulation]  \n",
       "15823                                    [Action, Indie]  \n",
       "15824                                 [Action, Strategy]  \n",
       "15825                      [Action, Indie, Early Access]  \n",
       "\n",
       "[15826 rows x 6 columns]"
      ],
      "text/html": "<div>\n<style scoped>\n    .dataframe tbody tr th:only-of-type {\n        vertical-align: middle;\n    }\n\n    .dataframe tbody tr th {\n        vertical-align: top;\n    }\n\n    .dataframe thead th {\n        text-align: right;\n    }\n</style>\n<table border=\"1\" class=\"dataframe\">\n  <thead>\n    <tr style=\"text-align: right;\">\n      <th></th>\n      <th>game_info</th>\n      <th>reviews</th>\n      <th>review_summary</th>\n      <th>appid</th>\n      <th>name</th>\n      <th>genres</th>\n    </tr>\n  </thead>\n  <tbody>\n    <tr>\n      <th>0</th>\n      <td>{'name': 'Warframe', 'steam_appid': 230410, 'g...</td>\n      <td>0.52</td>\n      <td>{'review_score': 8.0, 'total_positive': 1009, ...</td>\n      <td>230410.0</td>\n      <td>Warframe</td>\n      <td>[Action, Free to Play]</td>\n    </tr>\n    <tr>\n      <th>1</th>\n      <td>{'name': 'Rust', 'steam_appid': 252490, 'genre...</td>\n      <td>0.91</td>\n      <td>{'review_score': 8.0, 'total_positive': 169918...</td>\n      <td>252490.0</td>\n      <td>Rust</td>\n      <td>[Action, Adventure, Indie, Massively Multiplay...</td>\n    </tr>\n    <tr>\n      <th>2</th>\n      <td>{'name': 'Grand Theft Auto: San Andreas', 'ste...</td>\n      <td>0.52</td>\n      <td>{'review_score': 7.0, 'total_positive': 39, 't...</td>\n      <td>12250.0</td>\n      <td>Grand Theft Auto: San Andreas</td>\n      <td>[]</td>\n    </tr>\n    <tr>\n      <th>3</th>\n      <td>{'name': 'Grand Theft Auto: San Andreas', 'ste...</td>\n      <td>0.77</td>\n      <td>{'review_score': 8.0, 'total_positive': 12549,...</td>\n      <td>12120.0</td>\n      <td>Grand Theft Auto: San Andreas</td>\n      <td>[Action]</td>\n    </tr>\n    <tr>\n      <th>4</th>\n      <td>{'name': 'Game Dev Tycoon', 'steam_appid': 239...</td>\n      <td>0.70</td>\n      <td>{'review_score': 8.0, 'total_positive': 16966,...</td>\n      <td>239820.0</td>\n      <td>Game Dev Tycoon</td>\n      <td>[Casual, Indie, Simulation, Strategy]</td>\n    </tr>\n    <tr>\n      <th>...</th>\n      <td>...</td>\n      <td>...</td>\n      <td>...</td>\n      <td>...</td>\n      <td>...</td>\n      <td>...</td>\n    </tr>\n    <tr>\n      <th>15821</th>\n      <td>{'name': 'The Wind Road 紫塞秋风', 'steam_appid': ...</td>\n      <td>0.55</td>\n      <td>{'review_score': 8.0, 'total_positive': 52, 't...</td>\n      <td>1264670.0</td>\n      <td>The Wind Road 紫塞秋风</td>\n      <td>[Action, Adventure, Indie, RPG]</td>\n    </tr>\n    <tr>\n      <th>15822</th>\n      <td>{'name': 'Stifled - Echolocation Horror Myster...</td>\n      <td>0.59</td>\n      <td>{'review_score': 6.0, 'total_positive': 14, 't...</td>\n      <td>514830.0</td>\n      <td>Stifled - Echolocation Horror Mystery</td>\n      <td>[Action, Adventure, Indie, Simulation]</td>\n    </tr>\n    <tr>\n      <th>15823</th>\n      <td>{'name': 'Shoot 1UP', 'steam_appid': 373610, '...</td>\n      <td>0.62</td>\n      <td>{'review_score': 7.0, 'total_positive': 41, 't...</td>\n      <td>373610.0</td>\n      <td>Shoot 1UP</td>\n      <td>[Action, Indie]</td>\n    </tr>\n    <tr>\n      <th>15824</th>\n      <td>{'name': 'State of War : Warmonger / 蓝色警戒 (Cla...</td>\n      <td>0.54</td>\n      <td>{'review_score': 8.0, 'total_positive': 51, 't...</td>\n      <td>748040.0</td>\n      <td>State of War : Warmonger / 蓝色警戒 (Classic 2000)</td>\n      <td>[Action, Strategy]</td>\n    </tr>\n    <tr>\n      <th>15825</th>\n      <td>{'name': 'Monsters and Monocles', 'steam_appid...</td>\n      <td>0.77</td>\n      <td>{'review_score': 5.0, 'total_positive': 29, 't...</td>\n      <td>328510.0</td>\n      <td>Monsters and Monocles</td>\n      <td>[Action, Indie, Early Access]</td>\n    </tr>\n  </tbody>\n</table>\n<p>15826 rows × 6 columns</p>\n</div>"
     },
     "metadata": {},
     "execution_count": 2
    }
   ],
   "source": [
    "def convert_game_info(gi):\n",
    "    gi[\"appid\"] = gi[\"game_info\"][\"steam_appid\"]\n",
    "    gi[\"name\"] = gi[\"game_info\"][\"name\"]\n",
    "    if gi[\"game_info\"][\"genres\"] is None:\n",
    "        gi[\"game_info\"][\"genres\"] = []\n",
    "    gi[\"genres\"] = list(map(lambda g: g[\"description\"], gi[\"game_info\"][\"genres\"]))\n",
    "    if len(gi[\"reviews\"]) > 0:\n",
    "        gi[\"reviews\"] = round(float(gi[\"reviews\"][0][\"weighted_vote_score\"]), ndigits=2)\n",
    "    else:\n",
    "        return None\n",
    "    return gi\n",
    "\n",
    "game_info = pd.read_json(\"game_info.json\")\n",
    "game_info = game_info.apply(convert_game_info, axis=1)\n",
    "game_info"
   ]
  },
  {
   "cell_type": "code",
   "execution_count": 3,
   "metadata": {
    "tags": []
   },
   "outputs": [],
   "source": [
    "def convert_to_percentage(game_time):\n",
    "    total_playtime = sum(game_time)\n",
    "    playtime_percentages = []\n",
    "    for playtime in game_time:\n",
    "        playtime_to_percent = (playtime / total_playtime) * 100\n",
    "        playtime_percentages.append(playtime_to_percent)\n",
    "    return playtime_percentages;\n",
    "\n",
    "for i in range(len(games[\"games\"])):\n",
    "    games[\"games\"][i][\"playtime_forever\"] = convert_to_percentage(games[\"games\"][i][\"playtime_forever\"])"
   ]
  },
  {
   "cell_type": "code",
   "execution_count": 79,
   "metadata": {
    "tags": []
   },
   "outputs": [
    {
     "output_type": "stream",
     "name": "stdout",
     "text": [
      "{'Free to Play', 'Sports', 'Accounting', 'Game Development', 'Strategy', 'Racing', 'Gore', 'Short', 'Violent', 'Web Publishing', 'Nudity', 'Design & Illustration', 'Simulation', 'Early Access', 'Movie', 'Documentary', 'Episodic', 'Photo Editing', 'Adventure', 'Tutorial', 'Education', 'Action', 'Massively Multiplayer', 'RPG', 'Animation & Modeling', 'Sexual Content', 'Utilities', 'Video Production', 'Casual', 'Indie', 'Audio Production', 'Software Training'}\n"
     ]
    }
   ],
   "source": [
    "all_genres = set()\n",
    "for app_genre_list in game_info['genres']:\n",
    "    if app_genre_list is not None:\n",
    "        for genre in app_genre_list:\n",
    "            all_genres.add(genre)\n",
    "print(unique_genres)"
   ]
  },
  {
   "cell_type": "code",
   "execution_count": 40,
   "metadata": {},
   "outputs": [
    {
     "output_type": "execute_result",
     "data": {
      "text/plain": [
       "                                           game_info  reviews  \\\n",
       "0  {'name': 'Warframe', 'steam_appid': 230410, 'g...     0.52   \n",
       "1  {'name': 'Rust', 'steam_appid': 252490, 'genre...     0.91   \n",
       "2  {'name': 'Grand Theft Auto: San Andreas', 'ste...     0.52   \n",
       "3  {'name': 'Grand Theft Auto: San Andreas', 'ste...     0.77   \n",
       "4  {'name': 'Game Dev Tycoon', 'steam_appid': 239...     0.70   \n",
       "\n",
       "                                      review_summary     appid  \\\n",
       "0  {'review_score': 8.0, 'total_positive': 1009, ...  230410.0   \n",
       "1  {'review_score': 8.0, 'total_positive': 169918...  252490.0   \n",
       "2  {'review_score': 7.0, 'total_positive': 39, 't...   12250.0   \n",
       "3  {'review_score': 8.0, 'total_positive': 12549,...   12120.0   \n",
       "4  {'review_score': 8.0, 'total_positive': 16966,...  239820.0   \n",
       "\n",
       "                            name  \\\n",
       "0                       Warframe   \n",
       "1                           Rust   \n",
       "2  Grand Theft Auto: San Andreas   \n",
       "3  Grand Theft Auto: San Andreas   \n",
       "4                Game Dev Tycoon   \n",
       "\n",
       "                                              genres  \n",
       "0                             [Action, Free to Play]  \n",
       "1  [Action, Adventure, Indie, Massively Multiplay...  \n",
       "2                                                 []  \n",
       "3                                           [Action]  \n",
       "4              [Casual, Indie, Simulation, Strategy]  "
      ],
      "text/html": "<div>\n<style scoped>\n    .dataframe tbody tr th:only-of-type {\n        vertical-align: middle;\n    }\n\n    .dataframe tbody tr th {\n        vertical-align: top;\n    }\n\n    .dataframe thead th {\n        text-align: right;\n    }\n</style>\n<table border=\"1\" class=\"dataframe\">\n  <thead>\n    <tr style=\"text-align: right;\">\n      <th></th>\n      <th>game_info</th>\n      <th>reviews</th>\n      <th>review_summary</th>\n      <th>appid</th>\n      <th>name</th>\n      <th>genres</th>\n    </tr>\n  </thead>\n  <tbody>\n    <tr>\n      <th>0</th>\n      <td>{'name': 'Warframe', 'steam_appid': 230410, 'g...</td>\n      <td>0.52</td>\n      <td>{'review_score': 8.0, 'total_positive': 1009, ...</td>\n      <td>230410.0</td>\n      <td>Warframe</td>\n      <td>[Action, Free to Play]</td>\n    </tr>\n    <tr>\n      <th>1</th>\n      <td>{'name': 'Rust', 'steam_appid': 252490, 'genre...</td>\n      <td>0.91</td>\n      <td>{'review_score': 8.0, 'total_positive': 169918...</td>\n      <td>252490.0</td>\n      <td>Rust</td>\n      <td>[Action, Adventure, Indie, Massively Multiplay...</td>\n    </tr>\n    <tr>\n      <th>2</th>\n      <td>{'name': 'Grand Theft Auto: San Andreas', 'ste...</td>\n      <td>0.52</td>\n      <td>{'review_score': 7.0, 'total_positive': 39, 't...</td>\n      <td>12250.0</td>\n      <td>Grand Theft Auto: San Andreas</td>\n      <td>[]</td>\n    </tr>\n    <tr>\n      <th>3</th>\n      <td>{'name': 'Grand Theft Auto: San Andreas', 'ste...</td>\n      <td>0.77</td>\n      <td>{'review_score': 8.0, 'total_positive': 12549,...</td>\n      <td>12120.0</td>\n      <td>Grand Theft Auto: San Andreas</td>\n      <td>[Action]</td>\n    </tr>\n    <tr>\n      <th>4</th>\n      <td>{'name': 'Game Dev Tycoon', 'steam_appid': 239...</td>\n      <td>0.70</td>\n      <td>{'review_score': 8.0, 'total_positive': 16966,...</td>\n      <td>239820.0</td>\n      <td>Game Dev Tycoon</td>\n      <td>[Casual, Indie, Simulation, Strategy]</td>\n    </tr>\n  </tbody>\n</table>\n</div>"
     },
     "metadata": {},
     "execution_count": 40
    }
   ],
   "source": [
    "game_info.head()"
   ]
  },
  {
   "cell_type": "code",
   "execution_count": 55,
   "metadata": {},
   "outputs": [
    {
     "output_type": "stream",
     "name": "stdout",
     "text": [
      "252490.0 Rust ['Action', 'Adventure', 'Indie', 'Massively Multiplayer', 'RPG']\n"
     ]
    }
   ],
   "source": [
    "print(game_info[\"appid\"][1], game_info[\"name\"][1], game_info[\"genres\"][1])"
   ]
  },
  {
   "cell_type": "code",
   "execution_count": 64,
   "metadata": {},
   "outputs": [
    {
     "output_type": "stream",
     "name": "stdout",
     "text": [
      "['Action', 'Adventure', 'Indie', 'Massively Multiplayer', 'RPG']\n"
     ]
    }
   ],
   "source": [
    "# Given the appid of a game, we will get its associated genre\n",
    "def genre_from_appid(appid):\n",
    "    return game_info[\"genres\"][(int(game_info[game_info[\"appid\"]==appid].index.values))]\n",
    "# print(genre_from_appid(252490.0))\n"
   ]
  },
  {
   "cell_type": "code",
   "execution_count": 128,
   "metadata": {},
   "outputs": [
    {
     "output_type": "stream",
     "name": "stdout",
     "text": [
      "3      0.266718\n10    17.010698\n13     0.405017\n15     0.819500\n16     0.703428\n20    70.919478\n22     4.916177\n25     3.369376\n41     1.589608\nName: playtime_forever, dtype: float64 3      218620.0\n10        730.0\n13     470220.0\n15     360430.0\n16     289070.0\n20     252950.0\n22     578080.0\n25     695290.0\n41    1089350.0\nName: appid, dtype: float64\n"
     ]
    }
   ],
   "source": [
    "print(games[\"games\"][0][\"playtime_forever\"], games[\"games\"][0][\"appid\"])"
   ]
  },
  {
   "cell_type": "code",
   "execution_count": 132,
   "metadata": {},
   "outputs": [
    {
     "output_type": "stream",
     "name": "stdout",
     "text": [
      "{'Free to Play': 0, 'Sports': 0, 'Accounting': 0, 'Game Development': 0, 'Strategy': 0, 'Racing': 0, 'Gore': 0, 'Short': 0, 'Violent': 0, 'Web Publishing': 0, 'Nudity': 0, 'Design & Illustration': 0, 'Simulation': 0, 'Early Access': 0, 'Movie': 0, 'Documentary': 0, 'Episodic': 0, 'Photo Editing': 0, 'Adventure': 0, 'Tutorial': 0, 'Education': 0, 'Action': 0, 'Massively Multiplayer': 0, 'RPG': 0, 'Animation & Modeling': 0, 'Sexual Content': 0, 'Utilities': 0, 'Video Production': 0, 'Casual': 0, 'Indie': 0, 'Audio Production': 0, 'Software Training': 0}\n"
     ]
    }
   ],
   "source": [
    "# want to create a dictionary then have it be a column in games df\n",
    "genre_dict = {}\n",
    "for genre in list(all_genres):\n",
    "    genre_dict[genre] = 0\n",
    "\n",
    "player_list = []\n",
    "for player in games[\"player\"]:\n",
    "    player_list.append(genre_dict)\n",
    "\n",
    "# print(player_list)\n",
    "games[\"genre_mapping\"] = player_list\n",
    "print(games[\"genre_mapping\"][0])\n"
   ]
  },
  {
   "cell_type": "code",
   "execution_count": 162,
   "metadata": {},
   "outputs": [
    {
     "output_type": "stream",
     "name": "stdout",
     "text": [
      "[ 3 10 13 15 16 20 22 25 41]\n"
     ]
    }
   ],
   "source": [
    "# return game_info[\"genres\"][(int(game_info[game_info[\"appid\"]==appid].index.values))]\n",
    "def getplaytime(appid, player):\n",
    "    player_rec = games[\"games\"][player]\n",
    "    print((player_rec[\"appid\"]==appid).index.values)\n",
    "    # print(player_rec[(player_rec[\"appid\"]==appid).index.values])\n",
    "getplaytime(730.0, 0)\n",
    "# print(games[\"games\"][0])"
   ]
  },
  {
   "cell_type": "code",
   "execution_count": 137,
   "metadata": {},
   "outputs": [
    {
     "output_type": "error",
     "ename": "KeyError",
     "evalue": "218620",
     "traceback": [
      "\u001b[0;31m---------------------------------------------------------------------------\u001b[0m",
      "\u001b[0;31mKeyError\u001b[0m                                  Traceback (most recent call last)",
      "\u001b[0;32m/opt/anaconda3/lib/python3.8/site-packages/pandas/core/series.py\u001b[0m in \u001b[0;36m__getitem__\u001b[0;34m(self, key)\u001b[0m\n\u001b[1;32m    870\u001b[0m         \u001b[0;32mtry\u001b[0m\u001b[0;34m:\u001b[0m\u001b[0;34m\u001b[0m\u001b[0;34m\u001b[0m\u001b[0m\n\u001b[0;32m--> 871\u001b[0;31m             \u001b[0mresult\u001b[0m \u001b[0;34m=\u001b[0m \u001b[0mself\u001b[0m\u001b[0;34m.\u001b[0m\u001b[0mindex\u001b[0m\u001b[0;34m.\u001b[0m\u001b[0mget_value\u001b[0m\u001b[0;34m(\u001b[0m\u001b[0mself\u001b[0m\u001b[0;34m,\u001b[0m \u001b[0mkey\u001b[0m\u001b[0;34m)\u001b[0m\u001b[0;34m\u001b[0m\u001b[0;34m\u001b[0m\u001b[0m\n\u001b[0m\u001b[1;32m    872\u001b[0m \u001b[0;34m\u001b[0m\u001b[0m\n",
      "\u001b[0;32m/opt/anaconda3/lib/python3.8/site-packages/pandas/core/indexes/base.py\u001b[0m in \u001b[0;36mget_value\u001b[0;34m(self, series, key)\u001b[0m\n\u001b[1;32m   4404\u001b[0m         \u001b[0;32mtry\u001b[0m\u001b[0;34m:\u001b[0m\u001b[0;34m\u001b[0m\u001b[0;34m\u001b[0m\u001b[0m\n\u001b[0;32m-> 4405\u001b[0;31m             \u001b[0;32mreturn\u001b[0m \u001b[0mself\u001b[0m\u001b[0;34m.\u001b[0m\u001b[0m_engine\u001b[0m\u001b[0;34m.\u001b[0m\u001b[0mget_value\u001b[0m\u001b[0;34m(\u001b[0m\u001b[0ms\u001b[0m\u001b[0;34m,\u001b[0m \u001b[0mk\u001b[0m\u001b[0;34m,\u001b[0m \u001b[0mtz\u001b[0m\u001b[0;34m=\u001b[0m\u001b[0mgetattr\u001b[0m\u001b[0;34m(\u001b[0m\u001b[0mseries\u001b[0m\u001b[0;34m.\u001b[0m\u001b[0mdtype\u001b[0m\u001b[0;34m,\u001b[0m \u001b[0;34m\"tz\"\u001b[0m\u001b[0;34m,\u001b[0m \u001b[0;32mNone\u001b[0m\u001b[0;34m)\u001b[0m\u001b[0;34m)\u001b[0m\u001b[0;34m\u001b[0m\u001b[0;34m\u001b[0m\u001b[0m\n\u001b[0m\u001b[1;32m   4406\u001b[0m         \u001b[0;32mexcept\u001b[0m \u001b[0mKeyError\u001b[0m \u001b[0;32mas\u001b[0m \u001b[0me1\u001b[0m\u001b[0;34m:\u001b[0m\u001b[0;34m\u001b[0m\u001b[0;34m\u001b[0m\u001b[0m\n",
      "\u001b[0;32mpandas/_libs/index.pyx\u001b[0m in \u001b[0;36mpandas._libs.index.IndexEngine.get_value\u001b[0;34m()\u001b[0m\n",
      "\u001b[0;32mpandas/_libs/index.pyx\u001b[0m in \u001b[0;36mpandas._libs.index.IndexEngine.get_value\u001b[0;34m()\u001b[0m\n",
      "\u001b[0;32mpandas/_libs/index.pyx\u001b[0m in \u001b[0;36mpandas._libs.index.IndexEngine.get_loc\u001b[0;34m()\u001b[0m\n",
      "\u001b[0;32mpandas/_libs/hashtable_class_helper.pxi\u001b[0m in \u001b[0;36mpandas._libs.hashtable.Int64HashTable.get_item\u001b[0;34m()\u001b[0m\n",
      "\u001b[0;32mpandas/_libs/hashtable_class_helper.pxi\u001b[0m in \u001b[0;36mpandas._libs.hashtable.Int64HashTable.get_item\u001b[0;34m()\u001b[0m\n",
      "\u001b[0;31mKeyError\u001b[0m: 218620",
      "\nDuring handling of the above exception, another exception occurred:\n",
      "\u001b[0;31mKeyError\u001b[0m                                  Traceback (most recent call last)",
      "\u001b[0;32m<ipython-input-137-e7a9cd49fee9>\u001b[0m in \u001b[0;36m<module>\u001b[0;34m\u001b[0m\n\u001b[1;32m      6\u001b[0m         \u001b[0;31m# print(appid, genre_from_appid(appid))\u001b[0m\u001b[0;34m\u001b[0m\u001b[0;34m\u001b[0m\u001b[0;34m\u001b[0m\u001b[0m\n\u001b[1;32m      7\u001b[0m         \u001b[0;32mfor\u001b[0m \u001b[0mgenre\u001b[0m \u001b[0;32min\u001b[0m \u001b[0mgenre_from_appid\u001b[0m\u001b[0;34m(\u001b[0m\u001b[0mappid\u001b[0m\u001b[0;34m)\u001b[0m\u001b[0;34m:\u001b[0m\u001b[0;34m\u001b[0m\u001b[0;34m\u001b[0m\u001b[0m\n\u001b[0;32m----> 8\u001b[0;31m             \u001b[0mgames\u001b[0m\u001b[0;34m[\u001b[0m\u001b[0;34m\"genre_mapping\"\u001b[0m\u001b[0;34m]\u001b[0m\u001b[0;34m[\u001b[0m\u001b[0mi\u001b[0m\u001b[0;34m]\u001b[0m\u001b[0;34m[\u001b[0m\u001b[0mgenre\u001b[0m\u001b[0;34m]\u001b[0m \u001b[0;34m+=\u001b[0m \u001b[0mgames\u001b[0m\u001b[0;34m[\u001b[0m\u001b[0;34m\"games\"\u001b[0m\u001b[0;34m]\u001b[0m\u001b[0;34m[\u001b[0m\u001b[0mi\u001b[0m\u001b[0;34m]\u001b[0m\u001b[0;34m[\u001b[0m\u001b[0;34m\"playtime_forever\"\u001b[0m\u001b[0;34m]\u001b[0m\u001b[0;34m[\u001b[0m\u001b[0mappid\u001b[0m\u001b[0;34m]\u001b[0m\u001b[0;34m\u001b[0m\u001b[0;34m\u001b[0m\u001b[0m\n\u001b[0m\u001b[1;32m      9\u001b[0m             \u001b[0mprint\u001b[0m\u001b[0;34m(\u001b[0m\u001b[0mgames\u001b[0m\u001b[0;34m[\u001b[0m\u001b[0;34m\"genre_mapping\"\u001b[0m\u001b[0;34m]\u001b[0m\u001b[0;34m[\u001b[0m\u001b[0;36m0\u001b[0m\u001b[0;34m]\u001b[0m\u001b[0;34m)\u001b[0m\u001b[0;34m\u001b[0m\u001b[0;34m\u001b[0m\u001b[0m\n\u001b[1;32m     10\u001b[0m         \u001b[0;32mbreak\u001b[0m\u001b[0;34m\u001b[0m\u001b[0;34m\u001b[0m\u001b[0m\n",
      "\u001b[0;32m/opt/anaconda3/lib/python3.8/site-packages/pandas/core/series.py\u001b[0m in \u001b[0;36m__getitem__\u001b[0;34m(self, key)\u001b[0m\n\u001b[1;32m    899\u001b[0m                 \u001b[0mnew_key\u001b[0m \u001b[0;34m=\u001b[0m \u001b[0mself\u001b[0m\u001b[0;34m.\u001b[0m\u001b[0mindex\u001b[0m\u001b[0;34m.\u001b[0m\u001b[0m_convert_scalar_indexer\u001b[0m\u001b[0;34m(\u001b[0m\u001b[0mkey\u001b[0m\u001b[0;34m,\u001b[0m \u001b[0mkind\u001b[0m\u001b[0;34m=\u001b[0m\u001b[0;34m\"getitem\"\u001b[0m\u001b[0;34m)\u001b[0m\u001b[0;34m\u001b[0m\u001b[0;34m\u001b[0m\u001b[0m\n\u001b[1;32m    900\u001b[0m                 \u001b[0;32mif\u001b[0m \u001b[0mtype\u001b[0m\u001b[0;34m(\u001b[0m\u001b[0mnew_key\u001b[0m\u001b[0;34m)\u001b[0m \u001b[0;34m!=\u001b[0m \u001b[0mtype\u001b[0m\u001b[0;34m(\u001b[0m\u001b[0mkey\u001b[0m\u001b[0;34m)\u001b[0m\u001b[0;34m:\u001b[0m\u001b[0;34m\u001b[0m\u001b[0;34m\u001b[0m\u001b[0m\n\u001b[0;32m--> 901\u001b[0;31m                     \u001b[0;32mreturn\u001b[0m \u001b[0mself\u001b[0m\u001b[0;34m.\u001b[0m\u001b[0m__getitem__\u001b[0m\u001b[0;34m(\u001b[0m\u001b[0mnew_key\u001b[0m\u001b[0;34m)\u001b[0m\u001b[0;34m\u001b[0m\u001b[0;34m\u001b[0m\u001b[0m\n\u001b[0m\u001b[1;32m    902\u001b[0m                 \u001b[0;32mraise\u001b[0m\u001b[0;34m\u001b[0m\u001b[0;34m\u001b[0m\u001b[0m\n\u001b[1;32m    903\u001b[0m \u001b[0;34m\u001b[0m\u001b[0m\n",
      "\u001b[0;32m/opt/anaconda3/lib/python3.8/site-packages/pandas/core/series.py\u001b[0m in \u001b[0;36m__getitem__\u001b[0;34m(self, key)\u001b[0m\n\u001b[1;32m    869\u001b[0m         \u001b[0mkey\u001b[0m \u001b[0;34m=\u001b[0m \u001b[0mcom\u001b[0m\u001b[0;34m.\u001b[0m\u001b[0mapply_if_callable\u001b[0m\u001b[0;34m(\u001b[0m\u001b[0mkey\u001b[0m\u001b[0;34m,\u001b[0m \u001b[0mself\u001b[0m\u001b[0;34m)\u001b[0m\u001b[0;34m\u001b[0m\u001b[0;34m\u001b[0m\u001b[0m\n\u001b[1;32m    870\u001b[0m         \u001b[0;32mtry\u001b[0m\u001b[0;34m:\u001b[0m\u001b[0;34m\u001b[0m\u001b[0;34m\u001b[0m\u001b[0m\n\u001b[0;32m--> 871\u001b[0;31m             \u001b[0mresult\u001b[0m \u001b[0;34m=\u001b[0m \u001b[0mself\u001b[0m\u001b[0;34m.\u001b[0m\u001b[0mindex\u001b[0m\u001b[0;34m.\u001b[0m\u001b[0mget_value\u001b[0m\u001b[0;34m(\u001b[0m\u001b[0mself\u001b[0m\u001b[0;34m,\u001b[0m \u001b[0mkey\u001b[0m\u001b[0;34m)\u001b[0m\u001b[0;34m\u001b[0m\u001b[0;34m\u001b[0m\u001b[0m\n\u001b[0m\u001b[1;32m    872\u001b[0m \u001b[0;34m\u001b[0m\u001b[0m\n\u001b[1;32m    873\u001b[0m             \u001b[0;32mif\u001b[0m \u001b[0;32mnot\u001b[0m \u001b[0mis_scalar\u001b[0m\u001b[0;34m(\u001b[0m\u001b[0mresult\u001b[0m\u001b[0;34m)\u001b[0m\u001b[0;34m:\u001b[0m\u001b[0;34m\u001b[0m\u001b[0;34m\u001b[0m\u001b[0m\n",
      "\u001b[0;32m/opt/anaconda3/lib/python3.8/site-packages/pandas/core/indexes/base.py\u001b[0m in \u001b[0;36mget_value\u001b[0;34m(self, series, key)\u001b[0m\n\u001b[1;32m   4403\u001b[0m         \u001b[0mk\u001b[0m \u001b[0;34m=\u001b[0m \u001b[0mself\u001b[0m\u001b[0;34m.\u001b[0m\u001b[0m_convert_scalar_indexer\u001b[0m\u001b[0;34m(\u001b[0m\u001b[0mk\u001b[0m\u001b[0;34m,\u001b[0m \u001b[0mkind\u001b[0m\u001b[0;34m=\u001b[0m\u001b[0;34m\"getitem\"\u001b[0m\u001b[0;34m)\u001b[0m\u001b[0;34m\u001b[0m\u001b[0;34m\u001b[0m\u001b[0m\n\u001b[1;32m   4404\u001b[0m         \u001b[0;32mtry\u001b[0m\u001b[0;34m:\u001b[0m\u001b[0;34m\u001b[0m\u001b[0;34m\u001b[0m\u001b[0m\n\u001b[0;32m-> 4405\u001b[0;31m             \u001b[0;32mreturn\u001b[0m \u001b[0mself\u001b[0m\u001b[0;34m.\u001b[0m\u001b[0m_engine\u001b[0m\u001b[0;34m.\u001b[0m\u001b[0mget_value\u001b[0m\u001b[0;34m(\u001b[0m\u001b[0ms\u001b[0m\u001b[0;34m,\u001b[0m \u001b[0mk\u001b[0m\u001b[0;34m,\u001b[0m \u001b[0mtz\u001b[0m\u001b[0;34m=\u001b[0m\u001b[0mgetattr\u001b[0m\u001b[0;34m(\u001b[0m\u001b[0mseries\u001b[0m\u001b[0;34m.\u001b[0m\u001b[0mdtype\u001b[0m\u001b[0;34m,\u001b[0m \u001b[0;34m\"tz\"\u001b[0m\u001b[0;34m,\u001b[0m \u001b[0;32mNone\u001b[0m\u001b[0;34m)\u001b[0m\u001b[0;34m)\u001b[0m\u001b[0;34m\u001b[0m\u001b[0;34m\u001b[0m\u001b[0m\n\u001b[0m\u001b[1;32m   4406\u001b[0m         \u001b[0;32mexcept\u001b[0m \u001b[0mKeyError\u001b[0m \u001b[0;32mas\u001b[0m \u001b[0me1\u001b[0m\u001b[0;34m:\u001b[0m\u001b[0;34m\u001b[0m\u001b[0;34m\u001b[0m\u001b[0m\n\u001b[1;32m   4407\u001b[0m             \u001b[0;32mif\u001b[0m \u001b[0mlen\u001b[0m\u001b[0;34m(\u001b[0m\u001b[0mself\u001b[0m\u001b[0;34m)\u001b[0m \u001b[0;34m>\u001b[0m \u001b[0;36m0\u001b[0m \u001b[0;32mand\u001b[0m \u001b[0;34m(\u001b[0m\u001b[0mself\u001b[0m\u001b[0;34m.\u001b[0m\u001b[0mholds_integer\u001b[0m\u001b[0;34m(\u001b[0m\u001b[0;34m)\u001b[0m \u001b[0;32mor\u001b[0m \u001b[0mself\u001b[0m\u001b[0;34m.\u001b[0m\u001b[0mis_boolean\u001b[0m\u001b[0;34m(\u001b[0m\u001b[0;34m)\u001b[0m\u001b[0;34m)\u001b[0m\u001b[0;34m:\u001b[0m\u001b[0;34m\u001b[0m\u001b[0;34m\u001b[0m\u001b[0m\n",
      "\u001b[0;32mpandas/_libs/index.pyx\u001b[0m in \u001b[0;36mpandas._libs.index.IndexEngine.get_value\u001b[0;34m()\u001b[0m\n",
      "\u001b[0;32mpandas/_libs/index.pyx\u001b[0m in \u001b[0;36mpandas._libs.index.IndexEngine.get_value\u001b[0;34m()\u001b[0m\n",
      "\u001b[0;32mpandas/_libs/index.pyx\u001b[0m in \u001b[0;36mpandas._libs.index.IndexEngine.get_loc\u001b[0;34m()\u001b[0m\n",
      "\u001b[0;32mpandas/_libs/hashtable_class_helper.pxi\u001b[0m in \u001b[0;36mpandas._libs.hashtable.Int64HashTable.get_item\u001b[0;34m()\u001b[0m\n",
      "\u001b[0;32mpandas/_libs/hashtable_class_helper.pxi\u001b[0m in \u001b[0;36mpandas._libs.hashtable.Int64HashTable.get_item\u001b[0;34m()\u001b[0m\n",
      "\u001b[0;31mKeyError\u001b[0m: 218620"
     ]
    }
   ],
   "source": [
    "# print(games[\"games\"][0])\n",
    "\n",
    "for players_game in games[\"games\"]:\n",
    "    # print(players_game)\n",
    "    for i, appid in enumerate(players_game[\"appid\"]):\n",
    "        # print(appid, genre_from_appid(appid))\n",
    "        for genre in genre_from_appid(appid):\n",
    "            games[\"genre_mapping\"][i][genre] += games[\"games\"][i][\"playtime_forever\"]\n",
    "            print(games[\"genre_mapping\"][0])\n",
    "            # get players playtime forever for that appid\n",
    "        break\n",
    "    break\n",
    "    "
   ]
  },
  {
   "cell_type": "code",
   "execution_count": null,
   "metadata": {},
   "outputs": [],
   "source": []
  }
 ],
 "metadata": {
  "kernelspec": {
   "display_name": "Python 3",
   "language": "python",
   "name": "python3"
  },
  "language_info": {
   "codemirror_mode": {
    "name": "ipython",
    "version": 3
   },
   "file_extension": ".py",
   "mimetype": "text/x-python",
   "name": "python",
   "nbconvert_exporter": "python",
   "pygments_lexer": "ipython3",
   "version": "3.8.3-final"
  }
 },
 "nbformat": 4,
 "nbformat_minor": 2
}