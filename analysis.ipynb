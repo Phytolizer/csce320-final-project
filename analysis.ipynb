{
 "cells": [
  {
   "cell_type": "code",
   "execution_count": 1,
   "metadata": {},
   "outputs": [
    {
     "output_type": "execute_result",
     "data": {
      "text/plain": [
       "        appid  playtime_forever\n",
       "3    218620.0         10.800000\n",
       "10      730.0        688.800000\n",
       "13   470220.0         16.400000\n",
       "15   360430.0         33.183333\n",
       "16   289070.0         28.483333\n",
       "20   252950.0       2871.683333\n",
       "22   578080.0        199.066667\n",
       "25   695290.0        136.433333\n",
       "41  1089350.0         64.366667"
      ],
      "text/html": "<div>\n<style scoped>\n    .dataframe tbody tr th:only-of-type {\n        vertical-align: middle;\n    }\n\n    .dataframe tbody tr th {\n        vertical-align: top;\n    }\n\n    .dataframe thead th {\n        text-align: right;\n    }\n</style>\n<table border=\"1\" class=\"dataframe\">\n  <thead>\n    <tr style=\"text-align: right;\">\n      <th></th>\n      <th>appid</th>\n      <th>playtime_forever</th>\n    </tr>\n  </thead>\n  <tbody>\n    <tr>\n      <th>3</th>\n      <td>218620.0</td>\n      <td>10.800000</td>\n    </tr>\n    <tr>\n      <th>10</th>\n      <td>730.0</td>\n      <td>688.800000</td>\n    </tr>\n    <tr>\n      <th>13</th>\n      <td>470220.0</td>\n      <td>16.400000</td>\n    </tr>\n    <tr>\n      <th>15</th>\n      <td>360430.0</td>\n      <td>33.183333</td>\n    </tr>\n    <tr>\n      <th>16</th>\n      <td>289070.0</td>\n      <td>28.483333</td>\n    </tr>\n    <tr>\n      <th>20</th>\n      <td>252950.0</td>\n      <td>2871.683333</td>\n    </tr>\n    <tr>\n      <th>22</th>\n      <td>578080.0</td>\n      <td>199.066667</td>\n    </tr>\n    <tr>\n      <th>25</th>\n      <td>695290.0</td>\n      <td>136.433333</td>\n    </tr>\n    <tr>\n      <th>41</th>\n      <td>1089350.0</td>\n      <td>64.366667</td>\n    </tr>\n  </tbody>\n</table>\n</div>"
     },
     "metadata": {},
     "execution_count": 1
    }
   ],
   "source": [
    "import pandas as pd\n",
    "import json\n",
    "\n",
    "PLAYTIME_THRESHOLD = 10\n",
    "\n",
    "def convert_game(game: object) -> pd.Series:\n",
    "    game = pd.json_normalize(game)\n",
    "    game[\"playtime_forever\"] = game[\"playtime_forever\"].apply(lambda p: p / 60)\n",
    "    game = game.where(lambda p: p[\"playtime_forever\"] > PLAYTIME_THRESHOLD).dropna()\n",
    "    return game\n",
    "\n",
    "games = pd.read_json(\"games.json\")\n",
    "games[\"games\"] = games[\"games\"].apply(convert_game)\n",
    "games[\"games\"][0]"
   ]
  },
  {
   "cell_type": "code",
   "execution_count": 2,
   "metadata": {
    "tags": []
   },
   "outputs": [
    {
     "output_type": "execute_result",
     "data": {
      "text/plain": [
       "                                               game_info  reviews  \\\n",
       "0      {'name': 'Warframe', 'steam_appid': 230410, 'g...     0.52   \n",
       "1      {'name': 'Rust', 'steam_appid': 252490, 'genre...     0.91   \n",
       "2      {'name': 'Grand Theft Auto: San Andreas', 'ste...     0.52   \n",
       "3      {'name': 'Grand Theft Auto: San Andreas', 'ste...     0.77   \n",
       "4      {'name': 'Game Dev Tycoon', 'steam_appid': 239...     0.70   \n",
       "...                                                  ...      ...   \n",
       "15821  {'name': 'The Wind Road 紫塞秋风', 'steam_appid': ...     0.55   \n",
       "15822  {'name': 'Stifled - Echolocation Horror Myster...     0.59   \n",
       "15823  {'name': 'Shoot 1UP', 'steam_appid': 373610, '...     0.62   \n",
       "15824  {'name': 'State of War : Warmonger / 蓝色警戒 (Cla...     0.54   \n",
       "15825  {'name': 'Monsters and Monocles', 'steam_appid...     0.77   \n",
       "\n",
       "                                          review_summary      appid  \\\n",
       "0      {'review_score': 8.0, 'total_positive': 1009, ...   230410.0   \n",
       "1      {'review_score': 8.0, 'total_positive': 169918...   252490.0   \n",
       "2      {'review_score': 7.0, 'total_positive': 39, 't...    12250.0   \n",
       "3      {'review_score': 8.0, 'total_positive': 12549,...    12120.0   \n",
       "4      {'review_score': 8.0, 'total_positive': 16966,...   239820.0   \n",
       "...                                                  ...        ...   \n",
       "15821  {'review_score': 8.0, 'total_positive': 52, 't...  1264670.0   \n",
       "15822  {'review_score': 6.0, 'total_positive': 14, 't...   514830.0   \n",
       "15823  {'review_score': 7.0, 'total_positive': 41, 't...   373610.0   \n",
       "15824  {'review_score': 8.0, 'total_positive': 51, 't...   748040.0   \n",
       "15825  {'review_score': 5.0, 'total_positive': 29, 't...   328510.0   \n",
       "\n",
       "                                                 name  \\\n",
       "0                                            Warframe   \n",
       "1                                                Rust   \n",
       "2                       Grand Theft Auto: San Andreas   \n",
       "3                       Grand Theft Auto: San Andreas   \n",
       "4                                     Game Dev Tycoon   \n",
       "...                                               ...   \n",
       "15821                              The Wind Road 紫塞秋风   \n",
       "15822           Stifled - Echolocation Horror Mystery   \n",
       "15823                                       Shoot 1UP   \n",
       "15824  State of War : Warmonger / 蓝色警戒 (Classic 2000)   \n",
       "15825                           Monsters and Monocles   \n",
       "\n",
       "                                                  genres  \n",
       "0                                 [Action, Free to Play]  \n",
       "1      [Action, Adventure, Indie, Massively Multiplay...  \n",
       "2                                                     []  \n",
       "3                                               [Action]  \n",
       "4                  [Casual, Indie, Simulation, Strategy]  \n",
       "...                                                  ...  \n",
       "15821                    [Action, Adventure, Indie, RPG]  \n",
       "15822             [Action, Adventure, Indie, Simulation]  \n",
       "15823                                    [Action, Indie]  \n",
       "15824                                 [Action, Strategy]  \n",
       "15825                      [Action, Indie, Early Access]  \n",
       "\n",
       "[15826 rows x 6 columns]"
      ],
      "text/html": "<div>\n<style scoped>\n    .dataframe tbody tr th:only-of-type {\n        vertical-align: middle;\n    }\n\n    .dataframe tbody tr th {\n        vertical-align: top;\n    }\n\n    .dataframe thead th {\n        text-align: right;\n    }\n</style>\n<table border=\"1\" class=\"dataframe\">\n  <thead>\n    <tr style=\"text-align: right;\">\n      <th></th>\n      <th>game_info</th>\n      <th>reviews</th>\n      <th>review_summary</th>\n      <th>appid</th>\n      <th>name</th>\n      <th>genres</th>\n    </tr>\n  </thead>\n  <tbody>\n    <tr>\n      <th>0</th>\n      <td>{'name': 'Warframe', 'steam_appid': 230410, 'g...</td>\n      <td>0.52</td>\n      <td>{'review_score': 8.0, 'total_positive': 1009, ...</td>\n      <td>230410.0</td>\n      <td>Warframe</td>\n      <td>[Action, Free to Play]</td>\n    </tr>\n    <tr>\n      <th>1</th>\n      <td>{'name': 'Rust', 'steam_appid': 252490, 'genre...</td>\n      <td>0.91</td>\n      <td>{'review_score': 8.0, 'total_positive': 169918...</td>\n      <td>252490.0</td>\n      <td>Rust</td>\n      <td>[Action, Adventure, Indie, Massively Multiplay...</td>\n    </tr>\n    <tr>\n      <th>2</th>\n      <td>{'name': 'Grand Theft Auto: San Andreas', 'ste...</td>\n      <td>0.52</td>\n      <td>{'review_score': 7.0, 'total_positive': 39, 't...</td>\n      <td>12250.0</td>\n      <td>Grand Theft Auto: San Andreas</td>\n      <td>[]</td>\n    </tr>\n    <tr>\n      <th>3</th>\n      <td>{'name': 'Grand Theft Auto: San Andreas', 'ste...</td>\n      <td>0.77</td>\n      <td>{'review_score': 8.0, 'total_positive': 12549,...</td>\n      <td>12120.0</td>\n      <td>Grand Theft Auto: San Andreas</td>\n      <td>[Action]</td>\n    </tr>\n    <tr>\n      <th>4</th>\n      <td>{'name': 'Game Dev Tycoon', 'steam_appid': 239...</td>\n      <td>0.70</td>\n      <td>{'review_score': 8.0, 'total_positive': 16966,...</td>\n      <td>239820.0</td>\n      <td>Game Dev Tycoon</td>\n      <td>[Casual, Indie, Simulation, Strategy]</td>\n    </tr>\n    <tr>\n      <th>...</th>\n      <td>...</td>\n      <td>...</td>\n      <td>...</td>\n      <td>...</td>\n      <td>...</td>\n      <td>...</td>\n    </tr>\n    <tr>\n      <th>15821</th>\n      <td>{'name': 'The Wind Road 紫塞秋风', 'steam_appid': ...</td>\n      <td>0.55</td>\n      <td>{'review_score': 8.0, 'total_positive': 52, 't...</td>\n      <td>1264670.0</td>\n      <td>The Wind Road 紫塞秋风</td>\n      <td>[Action, Adventure, Indie, RPG]</td>\n    </tr>\n    <tr>\n      <th>15822</th>\n      <td>{'name': 'Stifled - Echolocation Horror Myster...</td>\n      <td>0.59</td>\n      <td>{'review_score': 6.0, 'total_positive': 14, 't...</td>\n      <td>514830.0</td>\n      <td>Stifled - Echolocation Horror Mystery</td>\n      <td>[Action, Adventure, Indie, Simulation]</td>\n    </tr>\n    <tr>\n      <th>15823</th>\n      <td>{'name': 'Shoot 1UP', 'steam_appid': 373610, '...</td>\n      <td>0.62</td>\n      <td>{'review_score': 7.0, 'total_positive': 41, 't...</td>\n      <td>373610.0</td>\n      <td>Shoot 1UP</td>\n      <td>[Action, Indie]</td>\n    </tr>\n    <tr>\n      <th>15824</th>\n      <td>{'name': 'State of War : Warmonger / 蓝色警戒 (Cla...</td>\n      <td>0.54</td>\n      <td>{'review_score': 8.0, 'total_positive': 51, 't...</td>\n      <td>748040.0</td>\n      <td>State of War : Warmonger / 蓝色警戒 (Classic 2000)</td>\n      <td>[Action, Strategy]</td>\n    </tr>\n    <tr>\n      <th>15825</th>\n      <td>{'name': 'Monsters and Monocles', 'steam_appid...</td>\n      <td>0.77</td>\n      <td>{'review_score': 5.0, 'total_positive': 29, 't...</td>\n      <td>328510.0</td>\n      <td>Monsters and Monocles</td>\n      <td>[Action, Indie, Early Access]</td>\n    </tr>\n  </tbody>\n</table>\n<p>15826 rows × 6 columns</p>\n</div>"
     },
     "metadata": {},
     "execution_count": 2
    }
   ],
   "source": [
    "def convert_game_info(gi):\n",
    "    gi[\"appid\"] = gi[\"game_info\"][\"steam_appid\"]\n",
    "    gi[\"name\"] = gi[\"game_info\"][\"name\"]\n",
    "    if gi[\"game_info\"][\"genres\"] is None:\n",
    "        gi[\"game_info\"][\"genres\"] = []\n",
    "    gi[\"genres\"] = list(map(lambda g: g[\"description\"], gi[\"game_info\"][\"genres\"]))\n",
    "    if len(gi[\"reviews\"]) > 0:\n",
    "        gi[\"reviews\"] = round(float(gi[\"reviews\"][0][\"weighted_vote_score\"]), ndigits=2)\n",
    "    else:\n",
    "        return None\n",
    "    return gi\n",
    "\n",
    "game_info = pd.read_json(\"game_info.json\")\n",
    "game_info = game_info.apply(convert_game_info, axis=1)\n",
    "game_info"
   ]
  },
  {
   "cell_type": "code",
   "execution_count": 3,
   "metadata": {
    "tags": []
   },
   "outputs": [],
   "source": [
    "def convert_to_percentage(game_time):\n",
    "    total_playtime = sum(game_time)\n",
    "    playtime_percentages = []\n",
    "    for playtime in game_time:\n",
    "        playtime_to_percent = (playtime / total_playtime) * 100\n",
    "        playtime_percentages.append(playtime_to_percent)\n",
    "    return playtime_percentages;\n",
    "\n",
    "for i in range(len(games[\"games\"])):\n",
    "    games[\"games\"][i][\"playtime_forever\"] = convert_to_percentage(games[\"games\"][i][\"playtime_forever\"])"
   ]
  },
  {
   "cell_type": "code",
   "execution_count": 8,
   "metadata": {
    "tags": []
   },
   "outputs": [
    {
     "output_type": "stream",
     "name": "stdout",
     "text": [
      "{'Video Production', 'Free to Play', 'Massively Multiplayer', 'Animation & Modeling', 'Web Publishing', 'Violent', 'Strategy', 'Nudity', 'Early Access', 'Racing', 'Movie', 'Short', 'RPG', 'Education', 'Utilities', 'Accounting', 'Adventure', 'Simulation', 'Design & Illustration', 'Episodic', 'Game Development', 'Action', 'Audio Production', 'Photo Editing', 'Software Training', 'Documentary', 'Sexual Content', 'Gore', 'Sports', 'Casual', 'Indie', 'Tutorial'}\n"
     ]
    }
   ],
   "source": [
    "all_genres = []\n",
    "for app_genre_list in game_info['genres']:\n",
    "    if app_genre_list is not None:\n",
    "        for genre in app_genre_list:\n",
    "            all_genres.append(genre)\n",
    "unique_genres = set(all_genres)\n",
    "print(unique_genres)"
   ]
  }
 ],
 "metadata": {
  "kernelspec": {
   "display_name": "Python 3",
   "language": "python",
   "name": "python3"
  },
  "language_info": {
   "codemirror_mode": {
    "name": "ipython",
    "version": 3
   },
   "file_extension": ".py",
   "mimetype": "text/x-python",
   "name": "python",
   "nbconvert_exporter": "python",
   "pygments_lexer": "ipython3",
   "version": "3.8.3-final"
  }
 },
 "nbformat": 4,
 "nbformat_minor": 2
}